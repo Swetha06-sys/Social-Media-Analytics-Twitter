{
  "cells": [
    {
      "cell_type": "code",
      "execution_count": 1,
      "metadata": {
        "colab": {
          "base_uri": "https://localhost:8080/"
        },
        "id": "BraYSXL5bwLw",
        "outputId": "c1118780-4f94-41a6-f3af-098b5d370dfd"
      },
      "outputs": [
        {
          "output_type": "stream",
          "name": "stdout",
          "text": [
            "Populating the interactive namespace from numpy and matplotlib\n"
          ]
        }
      ],
      "source": [
        "import numpy as np\n",
        "import pandas as pd\n",
        "import matplotlib.pyplot as plt\n",
        "%matplotlib inline\n",
        "%pylab inline\n",
        "import seaborn as sns\n",
        "from pandas import read_csv\n",
        "from matplotlib import pyplot"
      ]
    },
    {
      "cell_type": "markdown",
      "metadata": {
        "id": "VlM_It5BbwLx"
      },
      "source": [
        "# About the dataset\n",
        "\n",
        "The dataset has 11 variables describing each person's Twiiter Activity. These variables are:\n",
        "- Follower Count: Number of followers of the person on Twitter\n",
        "- Follwoing Count: Number of Twitter users the person follows\n",
        "- Listed Count: Number of people that have added the person to a list\n",
        "- Mentions Received: Number of times people have mentioned (@) the person\n",
        "- Retweets Received: Number of times a tweet was retweeted\n",
        "- Mentions Sent: Number of times the person mentioned (@) someone\n",
        "- Retweets Sent: Number of times the person retweet a tweet\n",
        "- Posts: Number of posts\n",
        "- Network Feature 1, 2, 3: Local follower network of the person  "
      ]
    },
    {
      "cell_type": "code",
      "execution_count": 2,
      "metadata": {
        "colab": {
          "base_uri": "https://localhost:8080/",
          "height": 443
        },
        "id": "xT3_au8NbwL4",
        "outputId": "47610b04-674f-4ec3-cbc1-c55401db35b5"
      },
      "outputs": [
        {
          "output_type": "execute_result",
          "data": {
            "text/plain": [
              "      Choice  A_follower_count  A_following_count  A_listed_count  \\\n",
              "0          0               228                302               3   \n",
              "1          0             21591               1179             228   \n",
              "2          0              7310               1215             101   \n",
              "3          0                20                  7               2   \n",
              "4          1             45589                862            2641   \n",
              "...      ...               ...                ...             ...   \n",
              "5495       0             41765                185            1356   \n",
              "5496       1               112                243               5   \n",
              "5497       0             15385                673             747   \n",
              "5498       0            265258                209             551   \n",
              "5499       0               628                921               6   \n",
              "\n",
              "      A_mentions_received  A_retweets_received  A_mentions_sent  \\\n",
              "0                0.583979             0.100503         0.100503   \n",
              "1               90.456506            25.798292         5.709329   \n",
              "2               25.503644             9.556347         5.361519   \n",
              "3                7.690824             0.277306         1.331508   \n",
              "4              148.854279            36.998884        27.881768   \n",
              "...                   ...                  ...              ...   \n",
              "5495          1529.643058           282.858500        76.809514   \n",
              "5496             1.445174             0.100503         0.100503   \n",
              "5497            55.993546            22.321945         6.946233   \n",
              "5498           631.915946           457.648550         5.460985   \n",
              "5499             3.943848             0.618590         4.769930   \n",
              "\n",
              "      A_retweets_sent     A_posts  A_network_feature_1  ...  \\\n",
              "0            0.100503    0.362150                    2  ...   \n",
              "1            1.111159    5.176620                  369  ...   \n",
              "2            0.591206    3.589718                   95  ...   \n",
              "3            0.100503    2.830627                    6  ...   \n",
              "4            3.333492   23.861282                  551  ...   \n",
              "...               ...         ...                  ...  ...   \n",
              "5495         5.392171  104.438625                 3307  ...   \n",
              "5496         0.100503    0.603177                    5  ...   \n",
              "5497         0.341936    6.503977                  202  ...   \n",
              "5498         0.100503    7.498126                 2603  ...   \n",
              "5499         0.870136    2.953237                    8  ...   \n",
              "\n",
              "      B_following_count  B_listed_count  B_mentions_received  \\\n",
              "0                 29808            1689            15.430498   \n",
              "1                   848            1610            40.495021   \n",
              "2                   482             206             0.734696   \n",
              "3                 17637             278           572.874856   \n",
              "4                  1711             181            21.601866   \n",
              "...                 ...             ...                  ...   \n",
              "5495               1370           15143          6881.482996   \n",
              "5496                479               8             0.306073   \n",
              "5497               1711             181            21.601866   \n",
              "5498              37601           22232           176.533716   \n",
              "5499               3109           12772           311.800311   \n",
              "\n",
              "      B_retweets_received  B_mentions_sent  B_retweets_sent    B_posts  \\\n",
              "0                3.984029         8.204331         0.332423   6.988815   \n",
              "1                8.943607         3.227677         0.564343   1.070321   \n",
              "2                0.354379         0.603202         0.100503   0.603202   \n",
              "3              390.293681        27.552040         7.167557  32.101906   \n",
              "4                3.581661         6.764657         1.119727   4.563246   \n",
              "...                   ...              ...              ...        ...   \n",
              "5495          5013.642295        22.683131         2.385538  18.420981   \n",
              "5496             0.306073         0.100503         0.100503   1.621981   \n",
              "5497             3.581661         6.764657         1.119727   4.563246   \n",
              "5498            42.330221         6.849227         1.345073   4.359865   \n",
              "5499           142.633229         4.486090         1.049408   4.806823   \n",
              "\n",
              "      B_network_feature_1  B_network_feature_2  B_network_feature_3  \n",
              "0                      66            75.530303          1916.893939  \n",
              "1                     163           132.030675          2931.515337  \n",
              "2                       3            10.333333           277.333333  \n",
              "3                    1762            23.469296          1395.845634  \n",
              "4                      85            48.500000          1993.627907  \n",
              "...                   ...                  ...                  ...  \n",
              "5495                23958            21.324988          1413.825398  \n",
              "5496                    1            49.000000          4969.000000  \n",
              "5497                   85            48.500000          1993.627907  \n",
              "5498                  696           234.338068          7168.464489  \n",
              "5499                 1280            48.532819          1554.489575  \n",
              "\n",
              "[5500 rows x 23 columns]"
            ],
            "text/html": [
              "\n",
              "  <div id=\"df-628326da-7c25-47db-9902-4779144d3a67\" class=\"colab-df-container\">\n",
              "    <div>\n",
              "<style scoped>\n",
              "    .dataframe tbody tr th:only-of-type {\n",
              "        vertical-align: middle;\n",
              "    }\n",
              "\n",
              "    .dataframe tbody tr th {\n",
              "        vertical-align: top;\n",
              "    }\n",
              "\n",
              "    .dataframe thead th {\n",
              "        text-align: right;\n",
              "    }\n",
              "</style>\n",
              "<table border=\"1\" class=\"dataframe\">\n",
              "  <thead>\n",
              "    <tr style=\"text-align: right;\">\n",
              "      <th></th>\n",
              "      <th>Choice</th>\n",
              "      <th>A_follower_count</th>\n",
              "      <th>A_following_count</th>\n",
              "      <th>A_listed_count</th>\n",
              "      <th>A_mentions_received</th>\n",
              "      <th>A_retweets_received</th>\n",
              "      <th>A_mentions_sent</th>\n",
              "      <th>A_retweets_sent</th>\n",
              "      <th>A_posts</th>\n",
              "      <th>A_network_feature_1</th>\n",
              "      <th>...</th>\n",
              "      <th>B_following_count</th>\n",
              "      <th>B_listed_count</th>\n",
              "      <th>B_mentions_received</th>\n",
              "      <th>B_retweets_received</th>\n",
              "      <th>B_mentions_sent</th>\n",
              "      <th>B_retweets_sent</th>\n",
              "      <th>B_posts</th>\n",
              "      <th>B_network_feature_1</th>\n",
              "      <th>B_network_feature_2</th>\n",
              "      <th>B_network_feature_3</th>\n",
              "    </tr>\n",
              "  </thead>\n",
              "  <tbody>\n",
              "    <tr>\n",
              "      <th>0</th>\n",
              "      <td>0</td>\n",
              "      <td>228</td>\n",
              "      <td>302</td>\n",
              "      <td>3</td>\n",
              "      <td>0.583979</td>\n",
              "      <td>0.100503</td>\n",
              "      <td>0.100503</td>\n",
              "      <td>0.100503</td>\n",
              "      <td>0.362150</td>\n",
              "      <td>2</td>\n",
              "      <td>...</td>\n",
              "      <td>29808</td>\n",
              "      <td>1689</td>\n",
              "      <td>15.430498</td>\n",
              "      <td>3.984029</td>\n",
              "      <td>8.204331</td>\n",
              "      <td>0.332423</td>\n",
              "      <td>6.988815</td>\n",
              "      <td>66</td>\n",
              "      <td>75.530303</td>\n",
              "      <td>1916.893939</td>\n",
              "    </tr>\n",
              "    <tr>\n",
              "      <th>1</th>\n",
              "      <td>0</td>\n",
              "      <td>21591</td>\n",
              "      <td>1179</td>\n",
              "      <td>228</td>\n",
              "      <td>90.456506</td>\n",
              "      <td>25.798292</td>\n",
              "      <td>5.709329</td>\n",
              "      <td>1.111159</td>\n",
              "      <td>5.176620</td>\n",
              "      <td>369</td>\n",
              "      <td>...</td>\n",
              "      <td>848</td>\n",
              "      <td>1610</td>\n",
              "      <td>40.495021</td>\n",
              "      <td>8.943607</td>\n",
              "      <td>3.227677</td>\n",
              "      <td>0.564343</td>\n",
              "      <td>1.070321</td>\n",
              "      <td>163</td>\n",
              "      <td>132.030675</td>\n",
              "      <td>2931.515337</td>\n",
              "    </tr>\n",
              "    <tr>\n",
              "      <th>2</th>\n",
              "      <td>0</td>\n",
              "      <td>7310</td>\n",
              "      <td>1215</td>\n",
              "      <td>101</td>\n",
              "      <td>25.503644</td>\n",
              "      <td>9.556347</td>\n",
              "      <td>5.361519</td>\n",
              "      <td>0.591206</td>\n",
              "      <td>3.589718</td>\n",
              "      <td>95</td>\n",
              "      <td>...</td>\n",
              "      <td>482</td>\n",
              "      <td>206</td>\n",
              "      <td>0.734696</td>\n",
              "      <td>0.354379</td>\n",
              "      <td>0.603202</td>\n",
              "      <td>0.100503</td>\n",
              "      <td>0.603202</td>\n",
              "      <td>3</td>\n",
              "      <td>10.333333</td>\n",
              "      <td>277.333333</td>\n",
              "    </tr>\n",
              "    <tr>\n",
              "      <th>3</th>\n",
              "      <td>0</td>\n",
              "      <td>20</td>\n",
              "      <td>7</td>\n",
              "      <td>2</td>\n",
              "      <td>7.690824</td>\n",
              "      <td>0.277306</td>\n",
              "      <td>1.331508</td>\n",
              "      <td>0.100503</td>\n",
              "      <td>2.830627</td>\n",
              "      <td>6</td>\n",
              "      <td>...</td>\n",
              "      <td>17637</td>\n",
              "      <td>278</td>\n",
              "      <td>572.874856</td>\n",
              "      <td>390.293681</td>\n",
              "      <td>27.552040</td>\n",
              "      <td>7.167557</td>\n",
              "      <td>32.101906</td>\n",
              "      <td>1762</td>\n",
              "      <td>23.469296</td>\n",
              "      <td>1395.845634</td>\n",
              "    </tr>\n",
              "    <tr>\n",
              "      <th>4</th>\n",
              "      <td>1</td>\n",
              "      <td>45589</td>\n",
              "      <td>862</td>\n",
              "      <td>2641</td>\n",
              "      <td>148.854279</td>\n",
              "      <td>36.998884</td>\n",
              "      <td>27.881768</td>\n",
              "      <td>3.333492</td>\n",
              "      <td>23.861282</td>\n",
              "      <td>551</td>\n",
              "      <td>...</td>\n",
              "      <td>1711</td>\n",
              "      <td>181</td>\n",
              "      <td>21.601866</td>\n",
              "      <td>3.581661</td>\n",
              "      <td>6.764657</td>\n",
              "      <td>1.119727</td>\n",
              "      <td>4.563246</td>\n",
              "      <td>85</td>\n",
              "      <td>48.500000</td>\n",
              "      <td>1993.627907</td>\n",
              "    </tr>\n",
              "    <tr>\n",
              "      <th>...</th>\n",
              "      <td>...</td>\n",
              "      <td>...</td>\n",
              "      <td>...</td>\n",
              "      <td>...</td>\n",
              "      <td>...</td>\n",
              "      <td>...</td>\n",
              "      <td>...</td>\n",
              "      <td>...</td>\n",
              "      <td>...</td>\n",
              "      <td>...</td>\n",
              "      <td>...</td>\n",
              "      <td>...</td>\n",
              "      <td>...</td>\n",
              "      <td>...</td>\n",
              "      <td>...</td>\n",
              "      <td>...</td>\n",
              "      <td>...</td>\n",
              "      <td>...</td>\n",
              "      <td>...</td>\n",
              "      <td>...</td>\n",
              "      <td>...</td>\n",
              "    </tr>\n",
              "    <tr>\n",
              "      <th>5495</th>\n",
              "      <td>0</td>\n",
              "      <td>41765</td>\n",
              "      <td>185</td>\n",
              "      <td>1356</td>\n",
              "      <td>1529.643058</td>\n",
              "      <td>282.858500</td>\n",
              "      <td>76.809514</td>\n",
              "      <td>5.392171</td>\n",
              "      <td>104.438625</td>\n",
              "      <td>3307</td>\n",
              "      <td>...</td>\n",
              "      <td>1370</td>\n",
              "      <td>15143</td>\n",
              "      <td>6881.482996</td>\n",
              "      <td>5013.642295</td>\n",
              "      <td>22.683131</td>\n",
              "      <td>2.385538</td>\n",
              "      <td>18.420981</td>\n",
              "      <td>23958</td>\n",
              "      <td>21.324988</td>\n",
              "      <td>1413.825398</td>\n",
              "    </tr>\n",
              "    <tr>\n",
              "      <th>5496</th>\n",
              "      <td>1</td>\n",
              "      <td>112</td>\n",
              "      <td>243</td>\n",
              "      <td>5</td>\n",
              "      <td>1.445174</td>\n",
              "      <td>0.100503</td>\n",
              "      <td>0.100503</td>\n",
              "      <td>0.100503</td>\n",
              "      <td>0.603177</td>\n",
              "      <td>5</td>\n",
              "      <td>...</td>\n",
              "      <td>479</td>\n",
              "      <td>8</td>\n",
              "      <td>0.306073</td>\n",
              "      <td>0.306073</td>\n",
              "      <td>0.100503</td>\n",
              "      <td>0.100503</td>\n",
              "      <td>1.621981</td>\n",
              "      <td>1</td>\n",
              "      <td>49.000000</td>\n",
              "      <td>4969.000000</td>\n",
              "    </tr>\n",
              "    <tr>\n",
              "      <th>5497</th>\n",
              "      <td>0</td>\n",
              "      <td>15385</td>\n",
              "      <td>673</td>\n",
              "      <td>747</td>\n",
              "      <td>55.993546</td>\n",
              "      <td>22.321945</td>\n",
              "      <td>6.946233</td>\n",
              "      <td>0.341936</td>\n",
              "      <td>6.503977</td>\n",
              "      <td>202</td>\n",
              "      <td>...</td>\n",
              "      <td>1711</td>\n",
              "      <td>181</td>\n",
              "      <td>21.601866</td>\n",
              "      <td>3.581661</td>\n",
              "      <td>6.764657</td>\n",
              "      <td>1.119727</td>\n",
              "      <td>4.563246</td>\n",
              "      <td>85</td>\n",
              "      <td>48.500000</td>\n",
              "      <td>1993.627907</td>\n",
              "    </tr>\n",
              "    <tr>\n",
              "      <th>5498</th>\n",
              "      <td>0</td>\n",
              "      <td>265258</td>\n",
              "      <td>209</td>\n",
              "      <td>551</td>\n",
              "      <td>631.915946</td>\n",
              "      <td>457.648550</td>\n",
              "      <td>5.460985</td>\n",
              "      <td>0.100503</td>\n",
              "      <td>7.498126</td>\n",
              "      <td>2603</td>\n",
              "      <td>...</td>\n",
              "      <td>37601</td>\n",
              "      <td>22232</td>\n",
              "      <td>176.533716</td>\n",
              "      <td>42.330221</td>\n",
              "      <td>6.849227</td>\n",
              "      <td>1.345073</td>\n",
              "      <td>4.359865</td>\n",
              "      <td>696</td>\n",
              "      <td>234.338068</td>\n",
              "      <td>7168.464489</td>\n",
              "    </tr>\n",
              "    <tr>\n",
              "      <th>5499</th>\n",
              "      <td>0</td>\n",
              "      <td>628</td>\n",
              "      <td>921</td>\n",
              "      <td>6</td>\n",
              "      <td>3.943848</td>\n",
              "      <td>0.618590</td>\n",
              "      <td>4.769930</td>\n",
              "      <td>0.870136</td>\n",
              "      <td>2.953237</td>\n",
              "      <td>8</td>\n",
              "      <td>...</td>\n",
              "      <td>3109</td>\n",
              "      <td>12772</td>\n",
              "      <td>311.800311</td>\n",
              "      <td>142.633229</td>\n",
              "      <td>4.486090</td>\n",
              "      <td>1.049408</td>\n",
              "      <td>4.806823</td>\n",
              "      <td>1280</td>\n",
              "      <td>48.532819</td>\n",
              "      <td>1554.489575</td>\n",
              "    </tr>\n",
              "  </tbody>\n",
              "</table>\n",
              "<p>5500 rows × 23 columns</p>\n",
              "</div>\n",
              "    <div class=\"colab-df-buttons\">\n",
              "\n",
              "  <div class=\"colab-df-container\">\n",
              "    <button class=\"colab-df-convert\" onclick=\"convertToInteractive('df-628326da-7c25-47db-9902-4779144d3a67')\"\n",
              "            title=\"Convert this dataframe to an interactive table.\"\n",
              "            style=\"display:none;\">\n",
              "\n",
              "  <svg xmlns=\"http://www.w3.org/2000/svg\" height=\"24px\" viewBox=\"0 -960 960 960\">\n",
              "    <path d=\"M120-120v-720h720v720H120Zm60-500h600v-160H180v160Zm220 220h160v-160H400v160Zm0 220h160v-160H400v160ZM180-400h160v-160H180v160Zm440 0h160v-160H620v160ZM180-180h160v-160H180v160Zm440 0h160v-160H620v160Z\"/>\n",
              "  </svg>\n",
              "    </button>\n",
              "\n",
              "  <style>\n",
              "    .colab-df-container {\n",
              "      display:flex;\n",
              "      gap: 12px;\n",
              "    }\n",
              "\n",
              "    .colab-df-convert {\n",
              "      background-color: #E8F0FE;\n",
              "      border: none;\n",
              "      border-radius: 50%;\n",
              "      cursor: pointer;\n",
              "      display: none;\n",
              "      fill: #1967D2;\n",
              "      height: 32px;\n",
              "      padding: 0 0 0 0;\n",
              "      width: 32px;\n",
              "    }\n",
              "\n",
              "    .colab-df-convert:hover {\n",
              "      background-color: #E2EBFA;\n",
              "      box-shadow: 0px 1px 2px rgba(60, 64, 67, 0.3), 0px 1px 3px 1px rgba(60, 64, 67, 0.15);\n",
              "      fill: #174EA6;\n",
              "    }\n",
              "\n",
              "    .colab-df-buttons div {\n",
              "      margin-bottom: 4px;\n",
              "    }\n",
              "\n",
              "    [theme=dark] .colab-df-convert {\n",
              "      background-color: #3B4455;\n",
              "      fill: #D2E3FC;\n",
              "    }\n",
              "\n",
              "    [theme=dark] .colab-df-convert:hover {\n",
              "      background-color: #434B5C;\n",
              "      box-shadow: 0px 1px 3px 1px rgba(0, 0, 0, 0.15);\n",
              "      filter: drop-shadow(0px 1px 2px rgba(0, 0, 0, 0.3));\n",
              "      fill: #FFFFFF;\n",
              "    }\n",
              "  </style>\n",
              "\n",
              "    <script>\n",
              "      const buttonEl =\n",
              "        document.querySelector('#df-628326da-7c25-47db-9902-4779144d3a67 button.colab-df-convert');\n",
              "      buttonEl.style.display =\n",
              "        google.colab.kernel.accessAllowed ? 'block' : 'none';\n",
              "\n",
              "      async function convertToInteractive(key) {\n",
              "        const element = document.querySelector('#df-628326da-7c25-47db-9902-4779144d3a67');\n",
              "        const dataTable =\n",
              "          await google.colab.kernel.invokeFunction('convertToInteractive',\n",
              "                                                    [key], {});\n",
              "        if (!dataTable) return;\n",
              "\n",
              "        const docLinkHtml = 'Like what you see? Visit the ' +\n",
              "          '<a target=\"_blank\" href=https://colab.research.google.com/notebooks/data_table.ipynb>data table notebook</a>'\n",
              "          + ' to learn more about interactive tables.';\n",
              "        element.innerHTML = '';\n",
              "        dataTable['output_type'] = 'display_data';\n",
              "        await google.colab.output.renderOutput(dataTable, element);\n",
              "        const docLink = document.createElement('div');\n",
              "        docLink.innerHTML = docLinkHtml;\n",
              "        element.appendChild(docLink);\n",
              "      }\n",
              "    </script>\n",
              "  </div>\n",
              "\n",
              "\n",
              "<div id=\"df-a372d106-021c-483b-a338-3f49b3974543\">\n",
              "  <button class=\"colab-df-quickchart\" onclick=\"quickchart('df-a372d106-021c-483b-a338-3f49b3974543')\"\n",
              "            title=\"Suggest charts\"\n",
              "            style=\"display:none;\">\n",
              "\n",
              "<svg xmlns=\"http://www.w3.org/2000/svg\" height=\"24px\"viewBox=\"0 0 24 24\"\n",
              "     width=\"24px\">\n",
              "    <g>\n",
              "        <path d=\"M19 3H5c-1.1 0-2 .9-2 2v14c0 1.1.9 2 2 2h14c1.1 0 2-.9 2-2V5c0-1.1-.9-2-2-2zM9 17H7v-7h2v7zm4 0h-2V7h2v10zm4 0h-2v-4h2v4z\"/>\n",
              "    </g>\n",
              "</svg>\n",
              "  </button>\n",
              "\n",
              "<style>\n",
              "  .colab-df-quickchart {\n",
              "      --bg-color: #E8F0FE;\n",
              "      --fill-color: #1967D2;\n",
              "      --hover-bg-color: #E2EBFA;\n",
              "      --hover-fill-color: #174EA6;\n",
              "      --disabled-fill-color: #AAA;\n",
              "      --disabled-bg-color: #DDD;\n",
              "  }\n",
              "\n",
              "  [theme=dark] .colab-df-quickchart {\n",
              "      --bg-color: #3B4455;\n",
              "      --fill-color: #D2E3FC;\n",
              "      --hover-bg-color: #434B5C;\n",
              "      --hover-fill-color: #FFFFFF;\n",
              "      --disabled-bg-color: #3B4455;\n",
              "      --disabled-fill-color: #666;\n",
              "  }\n",
              "\n",
              "  .colab-df-quickchart {\n",
              "    background-color: var(--bg-color);\n",
              "    border: none;\n",
              "    border-radius: 50%;\n",
              "    cursor: pointer;\n",
              "    display: none;\n",
              "    fill: var(--fill-color);\n",
              "    height: 32px;\n",
              "    padding: 0;\n",
              "    width: 32px;\n",
              "  }\n",
              "\n",
              "  .colab-df-quickchart:hover {\n",
              "    background-color: var(--hover-bg-color);\n",
              "    box-shadow: 0 1px 2px rgba(60, 64, 67, 0.3), 0 1px 3px 1px rgba(60, 64, 67, 0.15);\n",
              "    fill: var(--button-hover-fill-color);\n",
              "  }\n",
              "\n",
              "  .colab-df-quickchart-complete:disabled,\n",
              "  .colab-df-quickchart-complete:disabled:hover {\n",
              "    background-color: var(--disabled-bg-color);\n",
              "    fill: var(--disabled-fill-color);\n",
              "    box-shadow: none;\n",
              "  }\n",
              "\n",
              "  .colab-df-spinner {\n",
              "    border: 2px solid var(--fill-color);\n",
              "    border-color: transparent;\n",
              "    border-bottom-color: var(--fill-color);\n",
              "    animation:\n",
              "      spin 1s steps(1) infinite;\n",
              "  }\n",
              "\n",
              "  @keyframes spin {\n",
              "    0% {\n",
              "      border-color: transparent;\n",
              "      border-bottom-color: var(--fill-color);\n",
              "      border-left-color: var(--fill-color);\n",
              "    }\n",
              "    20% {\n",
              "      border-color: transparent;\n",
              "      border-left-color: var(--fill-color);\n",
              "      border-top-color: var(--fill-color);\n",
              "    }\n",
              "    30% {\n",
              "      border-color: transparent;\n",
              "      border-left-color: var(--fill-color);\n",
              "      border-top-color: var(--fill-color);\n",
              "      border-right-color: var(--fill-color);\n",
              "    }\n",
              "    40% {\n",
              "      border-color: transparent;\n",
              "      border-right-color: var(--fill-color);\n",
              "      border-top-color: var(--fill-color);\n",
              "    }\n",
              "    60% {\n",
              "      border-color: transparent;\n",
              "      border-right-color: var(--fill-color);\n",
              "    }\n",
              "    80% {\n",
              "      border-color: transparent;\n",
              "      border-right-color: var(--fill-color);\n",
              "      border-bottom-color: var(--fill-color);\n",
              "    }\n",
              "    90% {\n",
              "      border-color: transparent;\n",
              "      border-bottom-color: var(--fill-color);\n",
              "    }\n",
              "  }\n",
              "</style>\n",
              "\n",
              "  <script>\n",
              "    async function quickchart(key) {\n",
              "      const quickchartButtonEl =\n",
              "        document.querySelector('#' + key + ' button');\n",
              "      quickchartButtonEl.disabled = true;  // To prevent multiple clicks.\n",
              "      quickchartButtonEl.classList.add('colab-df-spinner');\n",
              "      try {\n",
              "        const charts = await google.colab.kernel.invokeFunction(\n",
              "            'suggestCharts', [key], {});\n",
              "      } catch (error) {\n",
              "        console.error('Error during call to suggestCharts:', error);\n",
              "      }\n",
              "      quickchartButtonEl.classList.remove('colab-df-spinner');\n",
              "      quickchartButtonEl.classList.add('colab-df-quickchart-complete');\n",
              "    }\n",
              "    (() => {\n",
              "      let quickchartButtonEl =\n",
              "        document.querySelector('#df-a372d106-021c-483b-a338-3f49b3974543 button');\n",
              "      quickchartButtonEl.style.display =\n",
              "        google.colab.kernel.accessAllowed ? 'block' : 'none';\n",
              "    })();\n",
              "  </script>\n",
              "</div>\n",
              "\n",
              "  <div id=\"id_cef1ee73-6f11-46b9-834a-d4e030101823\">\n",
              "    <style>\n",
              "      .colab-df-generate {\n",
              "        background-color: #E8F0FE;\n",
              "        border: none;\n",
              "        border-radius: 50%;\n",
              "        cursor: pointer;\n",
              "        display: none;\n",
              "        fill: #1967D2;\n",
              "        height: 32px;\n",
              "        padding: 0 0 0 0;\n",
              "        width: 32px;\n",
              "      }\n",
              "\n",
              "      .colab-df-generate:hover {\n",
              "        background-color: #E2EBFA;\n",
              "        box-shadow: 0px 1px 2px rgba(60, 64, 67, 0.3), 0px 1px 3px 1px rgba(60, 64, 67, 0.15);\n",
              "        fill: #174EA6;\n",
              "      }\n",
              "\n",
              "      [theme=dark] .colab-df-generate {\n",
              "        background-color: #3B4455;\n",
              "        fill: #D2E3FC;\n",
              "      }\n",
              "\n",
              "      [theme=dark] .colab-df-generate:hover {\n",
              "        background-color: #434B5C;\n",
              "        box-shadow: 0px 1px 3px 1px rgba(0, 0, 0, 0.15);\n",
              "        filter: drop-shadow(0px 1px 2px rgba(0, 0, 0, 0.3));\n",
              "        fill: #FFFFFF;\n",
              "      }\n",
              "    </style>\n",
              "    <button class=\"colab-df-generate\" onclick=\"generateWithVariable('Twitter_Train')\"\n",
              "            title=\"Generate code using this dataframe.\"\n",
              "            style=\"display:none;\">\n",
              "\n",
              "  <svg xmlns=\"http://www.w3.org/2000/svg\" height=\"24px\"viewBox=\"0 0 24 24\"\n",
              "       width=\"24px\">\n",
              "    <path d=\"M7,19H8.4L18.45,9,17,7.55,7,17.6ZM5,21V16.75L18.45,3.32a2,2,0,0,1,2.83,0l1.4,1.43a1.91,1.91,0,0,1,.58,1.4,1.91,1.91,0,0,1-.58,1.4L9.25,21ZM18.45,9,17,7.55Zm-12,3A5.31,5.31,0,0,0,4.9,8.1,5.31,5.31,0,0,0,1,6.5,5.31,5.31,0,0,0,4.9,4.9,5.31,5.31,0,0,0,6.5,1,5.31,5.31,0,0,0,8.1,4.9,5.31,5.31,0,0,0,12,6.5,5.46,5.46,0,0,0,6.5,12Z\"/>\n",
              "  </svg>\n",
              "    </button>\n",
              "    <script>\n",
              "      (() => {\n",
              "      const buttonEl =\n",
              "        document.querySelector('#id_cef1ee73-6f11-46b9-834a-d4e030101823 button.colab-df-generate');\n",
              "      buttonEl.style.display =\n",
              "        google.colab.kernel.accessAllowed ? 'block' : 'none';\n",
              "\n",
              "      buttonEl.onclick = () => {\n",
              "        google.colab.notebook.generateWithVariable('Twitter_Train');\n",
              "      }\n",
              "      })();\n",
              "    </script>\n",
              "  </div>\n",
              "\n",
              "    </div>\n",
              "  </div>\n"
            ],
            "application/vnd.google.colaboratory.intrinsic+json": {
              "type": "dataframe",
              "variable_name": "Twitter_Train"
            }
          },
          "metadata": {},
          "execution_count": 2
        }
      ],
      "source": [
        "# Load data\n",
        "Twitter_Train = pd.read_csv(\"/content/train.csv\")\n",
        "Twitter_Train"
      ]
    },
    {
      "cell_type": "code",
      "execution_count": 3,
      "metadata": {
        "colab": {
          "base_uri": "https://localhost:8080/"
        },
        "id": "NkYx1bZObwL4",
        "outputId": "0e8134f8-e7b4-44a2-b6e5-2305c2588008"
      },
      "outputs": [
        {
          "output_type": "stream",
          "name": "stdout",
          "text": [
            "<class 'pandas.core.frame.DataFrame'>\n",
            "RangeIndex: 5500 entries, 0 to 5499\n",
            "Data columns (total 23 columns):\n",
            " #   Column               Non-Null Count  Dtype  \n",
            "---  ------               --------------  -----  \n",
            " 0   Choice               5500 non-null   int64  \n",
            " 1   A_follower_count     5500 non-null   int64  \n",
            " 2   A_following_count    5500 non-null   int64  \n",
            " 3   A_listed_count       5500 non-null   int64  \n",
            " 4   A_mentions_received  5500 non-null   float64\n",
            " 5   A_retweets_received  5500 non-null   float64\n",
            " 6   A_mentions_sent      5500 non-null   float64\n",
            " 7   A_retweets_sent      5500 non-null   float64\n",
            " 8   A_posts              5500 non-null   float64\n",
            " 9   A_network_feature_1  5500 non-null   int64  \n",
            " 10  A_network_feature_2  5500 non-null   float64\n",
            " 11  A_network_feature_3  5500 non-null   float64\n",
            " 12  B_follower_count     5500 non-null   int64  \n",
            " 13  B_following_count    5500 non-null   int64  \n",
            " 14  B_listed_count       5500 non-null   int64  \n",
            " 15  B_mentions_received  5500 non-null   float64\n",
            " 16  B_retweets_received  5500 non-null   float64\n",
            " 17  B_mentions_sent      5500 non-null   float64\n",
            " 18  B_retweets_sent      5500 non-null   float64\n",
            " 19  B_posts              5500 non-null   float64\n",
            " 20  B_network_feature_1  5500 non-null   int64  \n",
            " 21  B_network_feature_2  5500 non-null   float64\n",
            " 22  B_network_feature_3  5500 non-null   float64\n",
            "dtypes: float64(14), int64(9)\n",
            "memory usage: 988.4 KB\n"
          ]
        }
      ],
      "source": [
        "Twitter_Train.info()"
      ]
    },
    {
      "cell_type": "code",
      "execution_count": null,
      "metadata": {
        "id": "5jxRNEk9bwL5",
        "outputId": "33bd5af9-3556-451a-a6f9-4c5a7b4a0159"
      },
      "outputs": [
        {
          "data": {
            "text/html": [
              "<div>\n",
              "<style scoped>\n",
              "    .dataframe tbody tr th:only-of-type {\n",
              "        vertical-align: middle;\n",
              "    }\n",
              "\n",
              "    .dataframe tbody tr th {\n",
              "        vertical-align: top;\n",
              "    }\n",
              "\n",
              "    .dataframe thead th {\n",
              "        text-align: right;\n",
              "    }\n",
              "</style>\n",
              "<table border=\"1\" class=\"dataframe\">\n",
              "  <thead>\n",
              "    <tr style=\"text-align: right;\">\n",
              "      <th></th>\n",
              "      <th>Choice</th>\n",
              "      <th>A_follower_count</th>\n",
              "      <th>A_following_count</th>\n",
              "      <th>A_listed_count</th>\n",
              "      <th>A_mentions_received</th>\n",
              "      <th>A_retweets_received</th>\n",
              "      <th>A_mentions_sent</th>\n",
              "      <th>A_retweets_sent</th>\n",
              "      <th>A_posts</th>\n",
              "      <th>A_network_feature_1</th>\n",
              "      <th>...</th>\n",
              "      <th>B_following_count</th>\n",
              "      <th>B_listed_count</th>\n",
              "      <th>B_mentions_received</th>\n",
              "      <th>B_retweets_received</th>\n",
              "      <th>B_mentions_sent</th>\n",
              "      <th>B_retweets_sent</th>\n",
              "      <th>B_posts</th>\n",
              "      <th>B_network_feature_1</th>\n",
              "      <th>B_network_feature_2</th>\n",
              "      <th>B_network_feature_3</th>\n",
              "    </tr>\n",
              "  </thead>\n",
              "  <tbody>\n",
              "    <tr>\n",
              "      <th>count</th>\n",
              "      <td>5500.000000</td>\n",
              "      <td>5.500000e+03</td>\n",
              "      <td>5.500000e+03</td>\n",
              "      <td>5500.000000</td>\n",
              "      <td>5.500000e+03</td>\n",
              "      <td>5500.000000</td>\n",
              "      <td>5500.000000</td>\n",
              "      <td>5500.000000</td>\n",
              "      <td>5500.000000</td>\n",
              "      <td>5500.000000</td>\n",
              "      <td>...</td>\n",
              "      <td>5500.000000</td>\n",
              "      <td>5500.000000</td>\n",
              "      <td>5.500000e+03</td>\n",
              "      <td>5500.000000</td>\n",
              "      <td>5500.000000</td>\n",
              "      <td>5500.000000</td>\n",
              "      <td>5500.000000</td>\n",
              "      <td>5500.000000</td>\n",
              "      <td>5500.000000</td>\n",
              "      <td>5500.000000</td>\n",
              "    </tr>\n",
              "    <tr>\n",
              "      <th>mean</th>\n",
              "      <td>0.509455</td>\n",
              "      <td>6.498840e+05</td>\n",
              "      <td>1.265895e+04</td>\n",
              "      <td>5952.453273</td>\n",
              "      <td>2.666032e+03</td>\n",
              "      <td>1032.371839</td>\n",
              "      <td>6.011873</td>\n",
              "      <td>1.109924</td>\n",
              "      <td>9.090730</td>\n",
              "      <td>5267.768000</td>\n",
              "      <td>...</td>\n",
              "      <td>12738.259818</td>\n",
              "      <td>5903.148364</td>\n",
              "      <td>2.554598e+03</td>\n",
              "      <td>997.149954</td>\n",
              "      <td>6.099658</td>\n",
              "      <td>1.106236</td>\n",
              "      <td>9.505821</td>\n",
              "      <td>5254.933636</td>\n",
              "      <td>85.024196</td>\n",
              "      <td>3745.175480</td>\n",
              "    </tr>\n",
              "    <tr>\n",
              "      <th>std</th>\n",
              "      <td>0.499956</td>\n",
              "      <td>2.028787e+06</td>\n",
              "      <td>4.900867e+04</td>\n",
              "      <td>17339.141191</td>\n",
              "      <td>2.916543e+04</td>\n",
              "      <td>10954.953223</td>\n",
              "      <td>9.519797</td>\n",
              "      <td>1.910104</td>\n",
              "      <td>18.311060</td>\n",
              "      <td>28946.777345</td>\n",
              "      <td>...</td>\n",
              "      <td>50054.520874</td>\n",
              "      <td>16298.462018</td>\n",
              "      <td>2.508873e+04</td>\n",
              "      <td>9342.006880</td>\n",
              "      <td>9.729557</td>\n",
              "      <td>1.939914</td>\n",
              "      <td>19.424680</td>\n",
              "      <td>26778.820125</td>\n",
              "      <td>106.689384</td>\n",
              "      <td>5518.399590</td>\n",
              "    </tr>\n",
              "    <tr>\n",
              "      <th>min</th>\n",
              "      <td>0.000000</td>\n",
              "      <td>1.600000e+01</td>\n",
              "      <td>0.000000e+00</td>\n",
              "      <td>0.000000</td>\n",
              "      <td>1.005034e-01</td>\n",
              "      <td>0.100503</td>\n",
              "      <td>0.100503</td>\n",
              "      <td>0.100503</td>\n",
              "      <td>0.100503</td>\n",
              "      <td>0.000000</td>\n",
              "      <td>...</td>\n",
              "      <td>0.000000</td>\n",
              "      <td>0.000000</td>\n",
              "      <td>1.005034e-01</td>\n",
              "      <td>0.100503</td>\n",
              "      <td>0.100503</td>\n",
              "      <td>0.100503</td>\n",
              "      <td>0.100503</td>\n",
              "      <td>0.000000</td>\n",
              "      <td>0.000000</td>\n",
              "      <td>0.000000</td>\n",
              "    </tr>\n",
              "    <tr>\n",
              "      <th>25%</th>\n",
              "      <td>0.000000</td>\n",
              "      <td>2.663750e+03</td>\n",
              "      <td>3.220000e+02</td>\n",
              "      <td>85.000000</td>\n",
              "      <td>3.453649e+00</td>\n",
              "      <td>0.716816</td>\n",
              "      <td>0.359534</td>\n",
              "      <td>0.100503</td>\n",
              "      <td>0.632440</td>\n",
              "      <td>12.000000</td>\n",
              "      <td>...</td>\n",
              "      <td>322.000000</td>\n",
              "      <td>75.000000</td>\n",
              "      <td>3.260473e+00</td>\n",
              "      <td>0.714556</td>\n",
              "      <td>0.356943</td>\n",
              "      <td>0.100503</td>\n",
              "      <td>0.822584</td>\n",
              "      <td>11.000000</td>\n",
              "      <td>15.176568</td>\n",
              "      <td>1206.500000</td>\n",
              "    </tr>\n",
              "    <tr>\n",
              "      <th>50%</th>\n",
              "      <td>1.000000</td>\n",
              "      <td>4.558900e+04</td>\n",
              "      <td>7.780000e+02</td>\n",
              "      <td>932.000000</td>\n",
              "      <td>4.876542e+01</td>\n",
              "      <td>14.029113</td>\n",
              "      <td>2.299666</td>\n",
              "      <td>0.341936</td>\n",
              "      <td>3.555194</td>\n",
              "      <td>195.000000</td>\n",
              "      <td>...</td>\n",
              "      <td>773.000000</td>\n",
              "      <td>890.000000</td>\n",
              "      <td>4.876542e+01</td>\n",
              "      <td>14.029113</td>\n",
              "      <td>2.251398</td>\n",
              "      <td>0.341936</td>\n",
              "      <td>3.342999</td>\n",
              "      <td>190.000000</td>\n",
              "      <td>54.925234</td>\n",
              "      <td>2206.420734</td>\n",
              "    </tr>\n",
              "    <tr>\n",
              "      <th>75%</th>\n",
              "      <td>1.000000</td>\n",
              "      <td>3.927380e+05</td>\n",
              "      <td>2.838000e+03</td>\n",
              "      <td>6734.000000</td>\n",
              "      <td>3.498196e+02</td>\n",
              "      <td>118.704407</td>\n",
              "      <td>7.198330</td>\n",
              "      <td>1.320681</td>\n",
              "      <td>10.691878</td>\n",
              "      <td>1323.000000</td>\n",
              "      <td>...</td>\n",
              "      <td>2838.000000</td>\n",
              "      <td>6734.000000</td>\n",
              "      <td>3.743699e+02</td>\n",
              "      <td>107.081021</td>\n",
              "      <td>6.866840</td>\n",
              "      <td>1.320681</td>\n",
              "      <td>10.600502</td>\n",
              "      <td>1323.000000</td>\n",
              "      <td>112.191489</td>\n",
              "      <td>4349.908608</td>\n",
              "    </tr>\n",
              "    <tr>\n",
              "      <th>max</th>\n",
              "      <td>1.000000</td>\n",
              "      <td>3.654319e+07</td>\n",
              "      <td>1.165830e+06</td>\n",
              "      <td>549144.000000</td>\n",
              "      <td>1.145219e+06</td>\n",
              "      <td>435825.874241</td>\n",
              "      <td>76.809514</td>\n",
              "      <td>16.290540</td>\n",
              "      <td>193.072418</td>\n",
              "      <td>920838.000000</td>\n",
              "      <td>...</td>\n",
              "      <td>664324.000000</td>\n",
              "      <td>549144.000000</td>\n",
              "      <td>1.145219e+06</td>\n",
              "      <td>435825.874241</td>\n",
              "      <td>76.809514</td>\n",
              "      <td>16.290540</td>\n",
              "      <td>193.072418</td>\n",
              "      <td>920838.000000</td>\n",
              "      <td>1861.583333</td>\n",
              "      <td>75526.083333</td>\n",
              "    </tr>\n",
              "  </tbody>\n",
              "</table>\n",
              "<p>8 rows × 23 columns</p>\n",
              "</div>"
            ],
            "text/plain": [
              "            Choice  A_follower_count  A_following_count  A_listed_count  \\\n",
              "count  5500.000000      5.500000e+03       5.500000e+03     5500.000000   \n",
              "mean      0.509455      6.498840e+05       1.265895e+04     5952.453273   \n",
              "std       0.499956      2.028787e+06       4.900867e+04    17339.141191   \n",
              "min       0.000000      1.600000e+01       0.000000e+00        0.000000   \n",
              "25%       0.000000      2.663750e+03       3.220000e+02       85.000000   \n",
              "50%       1.000000      4.558900e+04       7.780000e+02      932.000000   \n",
              "75%       1.000000      3.927380e+05       2.838000e+03     6734.000000   \n",
              "max       1.000000      3.654319e+07       1.165830e+06   549144.000000   \n",
              "\n",
              "       A_mentions_received  A_retweets_received  A_mentions_sent  \\\n",
              "count         5.500000e+03          5500.000000      5500.000000   \n",
              "mean          2.666032e+03          1032.371839         6.011873   \n",
              "std           2.916543e+04         10954.953223         9.519797   \n",
              "min           1.005034e-01             0.100503         0.100503   \n",
              "25%           3.453649e+00             0.716816         0.359534   \n",
              "50%           4.876542e+01            14.029113         2.299666   \n",
              "75%           3.498196e+02           118.704407         7.198330   \n",
              "max           1.145219e+06        435825.874241        76.809514   \n",
              "\n",
              "       A_retweets_sent      A_posts  A_network_feature_1  ...  \\\n",
              "count      5500.000000  5500.000000          5500.000000  ...   \n",
              "mean          1.109924     9.090730          5267.768000  ...   \n",
              "std           1.910104    18.311060         28946.777345  ...   \n",
              "min           0.100503     0.100503             0.000000  ...   \n",
              "25%           0.100503     0.632440            12.000000  ...   \n",
              "50%           0.341936     3.555194           195.000000  ...   \n",
              "75%           1.320681    10.691878          1323.000000  ...   \n",
              "max          16.290540   193.072418        920838.000000  ...   \n",
              "\n",
              "       B_following_count  B_listed_count  B_mentions_received  \\\n",
              "count        5500.000000     5500.000000         5.500000e+03   \n",
              "mean        12738.259818     5903.148364         2.554598e+03   \n",
              "std         50054.520874    16298.462018         2.508873e+04   \n",
              "min             0.000000        0.000000         1.005034e-01   \n",
              "25%           322.000000       75.000000         3.260473e+00   \n",
              "50%           773.000000      890.000000         4.876542e+01   \n",
              "75%          2838.000000     6734.000000         3.743699e+02   \n",
              "max        664324.000000   549144.000000         1.145219e+06   \n",
              "\n",
              "       B_retweets_received  B_mentions_sent  B_retweets_sent      B_posts  \\\n",
              "count          5500.000000      5500.000000      5500.000000  5500.000000   \n",
              "mean            997.149954         6.099658         1.106236     9.505821   \n",
              "std            9342.006880         9.729557         1.939914    19.424680   \n",
              "min               0.100503         0.100503         0.100503     0.100503   \n",
              "25%               0.714556         0.356943         0.100503     0.822584   \n",
              "50%              14.029113         2.251398         0.341936     3.342999   \n",
              "75%             107.081021         6.866840         1.320681    10.600502   \n",
              "max          435825.874241        76.809514        16.290540   193.072418   \n",
              "\n",
              "       B_network_feature_1  B_network_feature_2  B_network_feature_3  \n",
              "count          5500.000000          5500.000000          5500.000000  \n",
              "mean           5254.933636            85.024196          3745.175480  \n",
              "std           26778.820125           106.689384          5518.399590  \n",
              "min               0.000000             0.000000             0.000000  \n",
              "25%              11.000000            15.176568          1206.500000  \n",
              "50%             190.000000            54.925234          2206.420734  \n",
              "75%            1323.000000           112.191489          4349.908608  \n",
              "max          920838.000000          1861.583333         75526.083333  \n",
              "\n",
              "[8 rows x 23 columns]"
            ]
          },
          "execution_count": 5,
          "metadata": {},
          "output_type": "execute_result"
        }
      ],
      "source": [
        "Twitter_Train.describe()"
      ]
    },
    {
      "cell_type": "code",
      "execution_count": null,
      "metadata": {
        "id": "S6C3IRgobwL5",
        "outputId": "b3a48617-3ff1-40aa-fd3d-a5a3ec3d0290"
      },
      "outputs": [
        {
          "name": "stdout",
          "output_type": "stream",
          "text": [
            "Any missing values in the dataset: False\n"
          ]
        }
      ],
      "source": [
        "print(\"Any missing values in the dataset:\", Twitter_Train.isnull().values.any())"
      ]
    },
    {
      "cell_type": "code",
      "execution_count": null,
      "metadata": {
        "id": "w8EtJbeGbwL5",
        "outputId": "4bd4d6d7-7295-4e61-8477-da7d8a6f26c5"
      },
      "outputs": [
        {
          "data": {
            "text/plain": [
              "[Text(0.5, 0, 'A_follower_count'),\n",
              " Text(1.5, 0, 'A_following_count'),\n",
              " Text(2.5, 0, 'A_listed_count'),\n",
              " Text(3.5, 0, 'A_mentions_received'),\n",
              " Text(4.5, 0, 'A_retweets_received'),\n",
              " Text(5.5, 0, 'A_mentions_sent'),\n",
              " Text(6.5, 0, 'A_retweets_sent'),\n",
              " Text(7.5, 0, 'A_posts'),\n",
              " Text(8.5, 0, 'A_network_feature_1'),\n",
              " Text(9.5, 0, 'A_network_feature_2'),\n",
              " Text(10.5, 0, 'A_network_feature_3')]"
            ]
          },
          "execution_count": 7,
          "metadata": {},
          "output_type": "execute_result"
        },
        {
          "data": {
            "image/png": "[encoded data removed]",
            "text/plain": [
              "<Figure size 432x288 with 2 Axes>"
            ]
          },
          "metadata": {
            "needs_background": "light"
          },
          "output_type": "display_data"
        }
      ],
      "source": [
        "# Testing the correlation\n",
        "\n",
        "correlationA = Twitter_Train .iloc[:,1:12].corr(method = 'pearson')\n",
        "correlationA\n",
        "\n",
        "ax = sns.heatmap(\n",
        "    correlationA,\n",
        "    vmin=-1, vmax=1, center=0,\n",
        "    cmap=sns.diverging_palette(20, 220, n = 200),\n",
        "    square=True,\n",
        ")\n",
        "ax.set_xticklabels(\n",
        "    ax.get_xticklabels(),\n",
        "    rotation=45,\n",
        "    horizontalalignment='right'\n",
        ")"
      ]
    },
    {
      "cell_type": "code",
      "execution_count": null,
      "metadata": {
        "id": "57Fn9kibbwL5",
        "outputId": "128fb3d9-9c06-498b-df9e-7641a7aa4b2c"
      },
      "outputs": [
        {
          "data": {
            "text/plain": [
              "[Text(0.5, 0, 'B_follower_count'),\n",
              " Text(1.5, 0, 'B_following_count'),\n",
              " Text(2.5, 0, 'B_listed_count'),\n",
              " Text(3.5, 0, 'B_mentions_received'),\n",
              " Text(4.5, 0, 'B_retweets_received'),\n",
              " Text(5.5, 0, 'B_mentions_sent'),\n",
              " Text(6.5, 0, 'B_retweets_sent'),\n",
              " Text(7.5, 0, 'B_posts'),\n",
              " Text(8.5, 0, 'B_network_feature_1'),\n",
              " Text(9.5, 0, 'B_network_feature_2'),\n",
              " Text(10.5, 0, 'B_network_feature_3')]"
            ]
          },
          "execution_count": 8,
          "metadata": {},
          "output_type": "execute_result"
        },
        {
          "data": {
            "image/png": "[encoded data removed]",
            "text/plain": [
              "<Figure size 432x288 with 2 Axes>"
            ]
          },
          "metadata": {
            "needs_background": "light"
          },
          "output_type": "display_data"
        }
      ],
      "source": [
        "correlationB = Twitter_Train.iloc[:,12:23].corr(method='pearson')\n",
        "correlationB\n",
        "\n",
        "ax = sns.heatmap(\n",
        "    correlationB,\n",
        "    vmin=-1, vmax=1, center=0,\n",
        "    cmap=sns.diverging_palette(20, 220, n = 200),\n",
        "    square=True,\n",
        ")\n",
        "ax.set_xticklabels(\n",
        "    ax.get_xticklabels(),\n",
        "    rotation=45,\n",
        "    horizontalalignment='right'\n",
        ")"
      ]
    },
    {
      "cell_type": "markdown",
      "metadata": {
        "id": "5BC61_9gbwL5"
      },
      "source": [
        "# Applying Machine Learning Models to identify key predictors of Social Influence"
      ]
    },
    {
      "cell_type": "code",
      "execution_count": null,
      "metadata": {
        "id": "sDpQnbJ2bwL5"
      },
      "outputs": [],
      "source": [
        "# To prepare the dataset for machine learning models, the dataset is divided into Test data and Train data. By creating a train and test split of your dataset helps in quickly evaluating the performance of an algorithm on your problem. The training dataset is used to prepare a model, to train it and the test dataset is new data where the output values are withheld from the algorithm. Transforming A and B individuals into A-B variables for better interpretation of the model.For the test data, values are selected from the data. For the train data, one variable is chosen to build the model. Here, the model is built upon the variable \"choice\".\n",
        "\n",
        "x = pd.DataFrame(Twitter_Train.iloc[:,1:10].values - Twitter_Train.iloc[:,10:19].values)\n",
        "x.columns = ['A/B_follower_count','A/B_following_count','A/B_listed_count','A/B_retweets_received',\n",
        "             'A/B_mentions_sent','A/B_retweets_sent','A/B_posts','A/B_network_feature_2','A/B_network_feature_3']\n",
        "y= Twitter_Train['Choice']"
      ]
    },
    {
      "cell_type": "code",
      "execution_count": null,
      "metadata": {
        "id": "QlWKkCrbbwL6"
      },
      "outputs": [],
      "source": [
        "# The train_test_split function is for splitting a single dataset for two different purposes: training and testing. The testing subset is for building your model. The testing subset is for using the model on unknown data to evaluate the performance of the model.\n",
        "\n",
        "from sklearn.model_selection import train_test_split\n",
        "\n",
        "x_train , x_test, y_train, y_test = train_test_split (x, y, test_size = 0.30, random_state = 42)"
      ]
    },
    {
      "cell_type": "code",
      "execution_count": null,
      "metadata": {
        "id": "bci7C8jwbwL6",
        "outputId": "382765bc-e65b-4597-d428-e73b92e74cd0"
      },
      "outputs": [
        {
          "name": "stdout",
          "output_type": "stream",
          "text": [
            "X_Train Shape: (3850, 9)\n",
            "Y_Train Shape: (3850,)\n",
            "X_Test Shape: (1650, 9)\n",
            "Y_Test Shape: (1650,)\n"
          ]
        }
      ],
      "source": [
        "# Looking at the shape of the data to test whether training features number of columns match testing feature number of columns.The number of rows to match for the respective training and testing features and the labels\n",
        "\n",
        "print('X_Train Shape:', x_train.shape)\n",
        "print('Y_Train Shape:', y_train.shape)\n",
        "print('X_Test Shape:', x_test.shape)\n",
        "print('Y_Test Shape:', y_test.shape)"
      ]
    },
    {
      "cell_type": "code",
      "execution_count": null,
      "metadata": {
        "id": "01Z-iAQ-bwL6",
        "outputId": "af1b2cf6-70b3-440e-a853-f22cab8561e6"
      },
      "outputs": [
        {
          "name": "stdout",
          "output_type": "stream",
          "text": [
            "LR: 0.709091 (0.014693)\n",
            "KNN: 0.737662 (0.016054)\n",
            "CART: 0.700000 (0.019653)\n",
            "RF: 0.757662 (0.016470)\n",
            "NB: 0.547273 (0.013196)\n",
            "SVM: 0.523117 (0.006989)\n",
            "Xgboost: 0.772987 (0.021831)\n"
          ]
        }
      ],
      "source": [
        "# Spot Check Algorithms\n",
        "\n",
        "from sklearn.linear_model import LogisticRegression\n",
        "from sklearn.neighbors import KNeighborsClassifier\n",
        "from sklearn.tree import DecisionTreeClassifier\n",
        "from sklearn.ensemble import RandomForestClassifier\n",
        "from sklearn.naive_bayes import GaussianNB\n",
        "from sklearn.svm import SVC\n",
        "from xgboost import XGBClassifier\n",
        "from sklearn.model_selection import cross_val_score\n",
        "from sklearn.model_selection import StratifiedKFold\n",
        "\n",
        "\n",
        "models = []\n",
        "models.append(('LR', LogisticRegression(solver='liblinear', multi_class='ovr')))\n",
        "models.append(('KNN', KNeighborsClassifier()))\n",
        "models.append(('CART', DecisionTreeClassifier()))\n",
        "models.append((\"RF\", RandomForestClassifier()))\n",
        "models.append(('NB', GaussianNB()))\n",
        "models.append(('SVM', SVC(gamma='auto')))\n",
        "models.append(('Xgboost', XGBClassifier()))\n",
        "\n",
        "# evaluate each model in turn\n",
        "results = []\n",
        "names = []\n",
        "for name, model in models:\n",
        "    kfold = StratifiedKFold(n_splits=10, random_state=1, shuffle=True)\n",
        "    cv_results = cross_val_score(model, x_train, y_train, cv = kfold, scoring='accuracy')\n",
        "    results.append(cv_results)\n",
        "    names.append(name)\n",
        "    print('%s: %f (%f)' % (name, cv_results.mean(), cv_results.std()))\n"
      ]
    },
    {
      "cell_type": "code",
      "execution_count": null,
      "metadata": {
        "id": "E-rGLe0fbwL6",
        "outputId": "41ca143f-9a69-47ea-895a-e264dfef6e8d"
      },
      "outputs": [
        {
          "name": "stdout",
          "output_type": "stream",
          "text": [
            "[ True  True  True  True  True  True  True  True  True]\n",
            "[1 1 1 1 1 1 1 1 1]\n"
          ]
        }
      ],
      "source": [
        "# Logtistic Regression\n",
        "\n",
        "from sklearn.linear_model import LogisticRegression\n",
        "from sklearn.metrics import confusion_matrix, classification_report\n",
        "from sklearn.feature_selection import RFE\n",
        "\n",
        "\n",
        "model_logreg = LogisticRegression()\n",
        "rfe = RFE(model_logreg, 9)\n",
        "rfe = rfe.fit(x_train, y_train.values.ravel())\n",
        "print(rfe.support_)  #Indicates all variables have been selected by RFE with a ranking of 1\n",
        "print(rfe.ranking_)"
      ]
    },
    {
      "cell_type": "code",
      "execution_count": null,
      "metadata": {
        "id": "IxjnTUm4bwL6",
        "outputId": "79358081-b135-4070-ae64-8cc6f34c8742"
      },
      "outputs": [
        {
          "name": "stdout",
          "output_type": "stream",
          "text": [
            "Optimization terminated successfully.\n",
            "         Current function value: 0.625624\n",
            "         Iterations 6\n",
            "                           Results: Logit\n",
            "=====================================================================\n",
            "Model:               Logit             Pseudo R-squared:  0.097      \n",
            "Dependent Variable:  Choice            AIC:               6899.8665  \n",
            "Date:                2020-07-06 12:17  BIC:               6959.3790  \n",
            "No. Observations:    5500              Log-Likelihood:    -3440.9    \n",
            "Df Model:            8                 LL-Null:           -3811.3    \n",
            "Df Residuals:        5491              LLR p-value:       1.1797e-154\n",
            "Converged:           1.0000            Scale:             1.0000     \n",
            "No. Iterations:      6.0000                                          \n",
            "---------------------------------------------------------------------\n",
            "                       Coef.  Std.Err.    z    P>|z|   [0.025  0.975]\n",
            "---------------------------------------------------------------------\n",
            "A/B_follower_count     0.0000   0.0000 11.5580 0.0000  0.0000  0.0000\n",
            "A/B_following_count    0.0000   0.0000  1.8642 0.0623 -0.0000  0.0000\n",
            "A/B_listed_count      -0.0000   0.0000 -0.2372 0.8125 -0.0000  0.0000\n",
            "A/B_retweets_received -0.0000   0.0000 -2.1213 0.0339 -0.0000 -0.0000\n",
            "A/B_mentions_sent      0.0001   0.0000 12.3501 0.0000  0.0001  0.0001\n",
            "A/B_retweets_sent      0.0000   0.0000  0.0345 0.9725 -0.0000  0.0000\n",
            "A/B_posts              0.0000   0.0000  0.6897 0.4904 -0.0000  0.0001\n",
            "A/B_network_feature_2  0.0190   0.0018 10.4503 0.0000  0.0155  0.0226\n",
            "A/B_network_feature_3 -0.0000   0.0000 -8.6146 0.0000 -0.0000 -0.0000\n",
            "=====================================================================\n",
            "\n"
          ]
        }
      ],
      "source": [
        "import statsmodels.api as sm\n",
        "\n",
        "logit_model = sm.Logit(y,x)\n",
        "result = logit_model.fit()\n",
        "print(result.summary2())"
      ]
    },
    {
      "cell_type": "code",
      "execution_count": null,
      "metadata": {
        "id": "BCIfZTkGbwL6",
        "outputId": "33d694d4-31bd-475c-b920-3d5efca26e91"
      },
      "outputs": [
        {
          "name": "stdout",
          "output_type": "stream",
          "text": [
            "Optimization terminated successfully.\n",
            "         Current function value: 0.618079\n",
            "         Iterations 6\n",
            "                           Results: Logit\n",
            "=====================================================================\n",
            "Model:               Logit             Pseudo R-squared:  0.108      \n",
            "Dependent Variable:  Choice            AIC:               4769.2079  \n",
            "Date:                2020-07-06 12:17  BIC:               4800.4870  \n",
            "No. Observations:    3850              Log-Likelihood:    -2379.6    \n",
            "Df Model:            4                 LL-Null:           -2667.5    \n",
            "Df Residuals:        3845              LLR p-value:       2.7700e-123\n",
            "Converged:           1.0000            Scale:             1.0000     \n",
            "No. Iterations:      6.0000                                          \n",
            "---------------------------------------------------------------------\n",
            "                       Coef.  Std.Err.    z    P>|z|   [0.025  0.975]\n",
            "---------------------------------------------------------------------\n",
            "A/B_follower_count     0.0000   0.0000 10.5261 0.0000  0.0000  0.0000\n",
            "A/B_retweets_received -0.0000   0.0000 -2.2968 0.0216 -0.0000 -0.0000\n",
            "A/B_mentions_sent      0.0001   0.0000 15.0594 0.0000  0.0001  0.0001\n",
            "A/B_network_feature_2  0.0220   0.0023  9.7371 0.0000  0.0176  0.0265\n",
            "A/B_network_feature_3 -0.0000   0.0000 -8.0290 0.0000 -0.0000 -0.0000\n",
            "=====================================================================\n",
            "\n"
          ]
        }
      ],
      "source": [
        "# Removing variables with p-values greater than 0.05 to improve the model\n",
        "\n",
        "columns_to_keep = ['A/B_follower_count', 'A/B_retweets_received', 'A/B_mentions_sent',\n",
        "                   'A/B_network_feature_2', 'A/B_network_feature_3']\n",
        "x = x_train[columns_to_keep]\n",
        "y = y_train\n",
        "\n",
        "logit_model = sm.Logit(y,x)\n",
        "result = logit_model.fit()\n",
        "print(result.summary2())"
      ]
    },
    {
      "cell_type": "code",
      "execution_count": null,
      "metadata": {
        "id": "7vr9zvjTbwL6"
      },
      "outputs": [],
      "source": [
        "# Logistic Regression Model Fitting\n",
        "\n",
        "model_logreg.fit(x_train, y_train)\n",
        "\n",
        "# Predicting test results\n",
        "\n",
        "y_pred = model_logreg.predict(x_test)"
      ]
    },
    {
      "cell_type": "code",
      "execution_count": null,
      "metadata": {
        "id": "WsHh4T9_bwL6",
        "outputId": "05f95422-691b-4958-d557-4f19c9c2e7d6"
      },
      "outputs": [
        {
          "name": "stdout",
          "output_type": "stream",
          "text": [
            "Training accuracy of Logistic Regression model: 0.7103896103896103\n",
            "Testing accuracy of Logistic Regression model: 0.7260606060606061\n"
          ]
        }
      ],
      "source": [
        "# Calculating the accuracy of our model\n",
        "\n",
        "print(\"Training accuracy of Logistic Regression model:\", model_logreg.score(x_train, y_train))\n",
        "print(\"Testing accuracy of Logistic Regression model:\", model_logreg.score(x_test, y_test))"
      ]
    },
    {
      "cell_type": "markdown",
      "metadata": {
        "id": "T-CWrFFFbwL7"
      },
      "source": [
        "The difference between training and testing accuracy indicates how much the model has overfitted. The Logistic Regression model has a low overfitting value of 0.02 which indicates the model has not trained data too well to negatively impact the performance."
      ]
    },
    {
      "cell_type": "code",
      "execution_count": null,
      "metadata": {
        "id": "KvZoz7qCbwL7",
        "outputId": "b9665378-0960-4c0a-dae2-a9d9b91e1545"
      },
      "outputs": [
        {
          "name": "stdout",
          "output_type": "stream",
          "text": [
            "[[674 146]\n",
            " [306 524]]\n"
          ]
        }
      ],
      "source": [
        "# Confusion Matrix\n",
        "\n",
        "from sklearn.metrics import confusion_matrix, classification_report\n",
        "\n",
        "confusion_matrix = confusion_matrix (y_test,y_pred)\n",
        "print(confusion_matrix)."
      ]
    },
    {
      "cell_type": "markdown",
      "metadata": {
        "id": "KfkMh26QbwL7"
      },
      "source": [
        "The confusion matrix visualises the actual and predicted values of the data thereby depicting the performance of a supervised algorithm. Here, it can be inferred that there are 1,198 correct predictions and 452 incorrect predictions."
      ]
    },
    {
      "cell_type": "code",
      "execution_count": null,
      "metadata": {
        "id": "8zZRp9fEbwL7",
        "outputId": "154d0173-dd73-448f-d60d-fde0d4ffee97"
      },
      "outputs": [
        {
          "name": "stdout",
          "output_type": "stream",
          "text": [
            "              precision    recall  f1-score   support\n",
            "\n",
            "           0       0.69      0.82      0.75       820\n",
            "           1       0.78      0.63      0.70       830\n",
            "\n",
            "    accuracy                           0.73      1650\n",
            "   macro avg       0.73      0.73      0.72      1650\n",
            "weighted avg       0.74      0.73      0.72      1650\n",
            "\n"
          ]
        }
      ],
      "source": [
        "# Classification report will summarise our model by computing precision, recall, f-measure and support\n",
        "\n",
        "print(classification_report(y_test, y_pred))"
      ]
    },
    {
      "cell_type": "markdown",
      "metadata": {
        "id": "mtItiipvbwL7"
      },
      "source": [
        "In social media analytics, high precision means that an algorithm returned more relevant results than irrelevant, while high recall means that an algorithm returned most of the relevant results. In the logistic regression model, there is a 74% precision that there are more relevant values and a 73% recall that most of the relevant values are included in our model."
      ]
    },
    {
      "cell_type": "code",
      "execution_count": null,
      "metadata": {
        "id": "PG8imZAQbwL7"
      },
      "outputs": [],
      "source": [
        "# Random Forest Classifier\n",
        "\n",
        "from sklearn.ensemble import RandomForestClassifier\n",
        "\n",
        "model_rf = RandomForestClassifier()\n",
        "model_rf.fit(x_train, y_train) #Train the model on training data\n",
        "\n",
        "# Predicting the test results\n",
        "\n",
        "y_pred = model_rf.predict(x_test)"
      ]
    },
    {
      "cell_type": "code",
      "execution_count": null,
      "metadata": {
        "id": "-td72galbwL7",
        "outputId": "055da6cd-3c5e-4574-83a1-4e2c3afe9472"
      },
      "outputs": [
        {
          "name": "stdout",
          "output_type": "stream",
          "text": [
            "Training accuracy of Random Forest model: 0.9937662337662337\n",
            "Testing accuracy of Random Forest model: 0.7751515151515151\n"
          ]
        }
      ],
      "source": [
        "# Calculating the accuracy of our model\n",
        "\n",
        "print(\"Training accuracy of Random Forest model:\", model_rf.score(x_train, y_train))\n",
        "print(\"Testing accuracy of Random Forest model:\", model_rf.score(x_test, y_test))"
      ]
    },
    {
      "cell_type": "code",
      "execution_count": null,
      "metadata": {
        "id": "qScZDkLzbwL7",
        "outputId": "db443cbc-ace0-4585-c80d-44e819f0a3bd"
      },
      "outputs": [
        {
          "data": {
            "text/html": [
              "<div>\n",
              "<style scoped>\n",
              "    .dataframe tbody tr th:only-of-type {\n",
              "        vertical-align: middle;\n",
              "    }\n",
              "\n",
              "    .dataframe tbody tr th {\n",
              "        vertical-align: top;\n",
              "    }\n",
              "\n",
              "    .dataframe thead th {\n",
              "        text-align: right;\n",
              "    }\n",
              "</style>\n",
              "<table border=\"1\" class=\"dataframe\">\n",
              "  <thead>\n",
              "    <tr style=\"text-align: right;\">\n",
              "      <th></th>\n",
              "      <th>importance</th>\n",
              "    </tr>\n",
              "  </thead>\n",
              "  <tbody>\n",
              "    <tr>\n",
              "      <th>A/B_mentions_sent</th>\n",
              "      <td>0.160686</td>\n",
              "    </tr>\n",
              "    <tr>\n",
              "      <th>A/B_network_feature_3</th>\n",
              "      <td>0.146603</td>\n",
              "    </tr>\n",
              "    <tr>\n",
              "      <th>A/B_follower_count</th>\n",
              "      <td>0.135332</td>\n",
              "    </tr>\n",
              "    <tr>\n",
              "      <th>A/B_listed_count</th>\n",
              "      <td>0.127699</td>\n",
              "    </tr>\n",
              "    <tr>\n",
              "      <th>A/B_retweets_sent</th>\n",
              "      <td>0.119870</td>\n",
              "    </tr>\n",
              "    <tr>\n",
              "      <th>A/B_posts</th>\n",
              "      <td>0.093620</td>\n",
              "    </tr>\n",
              "    <tr>\n",
              "      <th>A/B_retweets_received</th>\n",
              "      <td>0.078480</td>\n",
              "    </tr>\n",
              "    <tr>\n",
              "      <th>A/B_network_feature_2</th>\n",
              "      <td>0.075339</td>\n",
              "    </tr>\n",
              "    <tr>\n",
              "      <th>A/B_following_count</th>\n",
              "      <td>0.062370</td>\n",
              "    </tr>\n",
              "  </tbody>\n",
              "</table>\n",
              "</div>"
            ],
            "text/plain": [
              "                       importance\n",
              "A/B_mentions_sent        0.160686\n",
              "A/B_network_feature_3    0.146603\n",
              "A/B_follower_count       0.135332\n",
              "A/B_listed_count         0.127699\n",
              "A/B_retweets_sent        0.119870\n",
              "A/B_posts                0.093620\n",
              "A/B_retweets_received    0.078480\n",
              "A/B_network_feature_2    0.075339\n",
              "A/B_following_count      0.062370"
            ]
          },
          "execution_count": 21,
          "metadata": {},
          "output_type": "execute_result"
        }
      ],
      "source": [
        "# To interpret the model and report the results, feature importances is used to quantify how much a particular variable improves predctions\n",
        "\n",
        "feature_importances = pd.DataFrame(model_rf.feature_importances_,\n",
        "                          index = x_train.columns,\n",
        "                          columns = ['importance']).sort_values('importance', ascending = False)\n",
        "feature_importances"
      ]
    },
    {
      "cell_type": "code",
      "execution_count": null,
      "metadata": {
        "id": "ZgMEHFBMbwL7"
      },
      "outputs": [],
      "source": [
        "# Select features with importance larger than 0.08\n",
        "\n",
        "columns_to_keep = ['A/B_mentions_sent', 'A/B_listed_count', 'A/B_follower_count',\n",
        "                   'A/B_network_feature_3', 'A/B_retweets_sent', 'A/B_posts']\n",
        "\n",
        "x = x_train[columns_to_keep]\n",
        "y = y_train\n",
        "\n",
        "model_rf = RandomForestClassifier() #New random forest classifier for the most important features\n",
        "model_rf.fit(x_train, y_train) #Train the model on training data\n",
        "\n",
        "# Predicting the test results\n",
        "\n",
        "y_pred = model_rf.predict(x_test)"
      ]
    },
    {
      "cell_type": "code",
      "execution_count": null,
      "metadata": {
        "id": "5OhTtOYRbwL7",
        "outputId": "96923766-d170-4be3-f646-37de1ff92a1d"
      },
      "outputs": [
        {
          "name": "stdout",
          "output_type": "stream",
          "text": [
            "Training accuracy of Random Forest model: 0.9937662337662337\n",
            "Testing accuracy of Random Forest model: 0.7751515151515151\n"
          ]
        }
      ],
      "source": [
        "# Calculating the accuracy of the model\n",
        "\n",
        "print(\"Training accuracy of Random Forest model:\", model_rf.score(x_train, y_train))\n",
        "print(\"Testing accuracy of Random Forest model:\", model_rf.score(x_test, y_test))"
      ]
    },
    {
      "cell_type": "markdown",
      "metadata": {
        "id": "R8u0Eo8YbwL7"
      },
      "source": [
        "The difference between training and testing accuracy indicates how much the model has overfitted. The Random Forest model has a low overfitting value of 0.22 which indicates the model has not trained data too well to negatively impact the performance."
      ]
    },
    {
      "cell_type": "code",
      "execution_count": null,
      "metadata": {
        "id": "6Yv68VzBbwL7",
        "outputId": "aadf58a2-195a-4603-e3b0-a1ef6f56765f"
      },
      "outputs": [
        {
          "name": "stdout",
          "output_type": "stream",
          "text": [
            "[[629 191]\n",
            " [180 650]]\n"
          ]
        }
      ],
      "source": [
        "# Confusion Matrix\n",
        "\n",
        "from sklearn.metrics import confusion_matrix, classification_report\n",
        "\n",
        "conf_matrix = confusion_matrix (y_test,y_pred)\n",
        "print(conf_matrix)"
      ]
    },
    {
      "cell_type": "markdown",
      "metadata": {
        "id": "qhvIy3gTbwL7"
      },
      "source": [
        "The confusion matrix visualises the actual and predicted values of the data thereby depicting the performance of a supervised algorithm. Here, it can be inferred that there are 1,274 correct predictions and 376 incorrect predictions."
      ]
    },
    {
      "cell_type": "code",
      "execution_count": null,
      "metadata": {
        "id": "S7eOwZKmbwL7",
        "outputId": "0ab48a6b-b244-4ee6-fdc0-0b1f96351199"
      },
      "outputs": [
        {
          "name": "stdout",
          "output_type": "stream",
          "text": [
            "              precision    recall  f1-score   support\n",
            "\n",
            "           0       0.78      0.77      0.77       820\n",
            "           1       0.77      0.78      0.78       830\n",
            "\n",
            "    accuracy                           0.78      1650\n",
            "   macro avg       0.78      0.78      0.78      1650\n",
            "weighted avg       0.78      0.78      0.78      1650\n",
            "\n"
          ]
        }
      ],
      "source": [
        "# Classification report will summarise our model by computing precision, recall, f-measure and support\n",
        "\n",
        "print(classification_report(y_test, y_pred))"
      ]
    },
    {
      "cell_type": "markdown",
      "metadata": {
        "id": "d-mGaxGNbwL7"
      },
      "source": [
        "In social media analytics, high precision means that an algorithm returned more relevant results than irrelevant, while high recall means that an algorithm returned most of the relevant results. In the Random Forest model, there is a 78% precision that there are more relevant values and a 78% recall that most of the relevant values are included in our model."
      ]
    },
    {
      "cell_type": "code",
      "execution_count": null,
      "metadata": {
        "id": "YxUGb9Z7bwL8"
      },
      "outputs": [],
      "source": [
        "# K-Nearest Neighbors\n",
        "\n",
        "from sklearn.neighbors import KNeighborsClassifier\n",
        "\n",
        "model_knn = KNeighborsClassifier(n_neighbors = 5, metric = 'euclidean')\n",
        "model_knn.fit(x_train, y_train)\n",
        "\n",
        "y_pred = model_knn.predict(x_test)"
      ]
    },
    {
      "cell_type": "code",
      "execution_count": null,
      "metadata": {
        "id": "Vd4OkSsfbwL8",
        "outputId": "8b426f7a-2ddc-41d3-a628-4bced7d9fec2"
      },
      "outputs": [
        {
          "name": "stdout",
          "output_type": "stream",
          "text": [
            "Training accuracy of K-Nearest Neighbors model: 0.818961038961039\n",
            "Testing accuracy of K-Nearest Neighbors model: 0.7412121212121212\n"
          ]
        }
      ],
      "source": [
        "# Calculating training and testing of our model\n",
        "\n",
        "print(\"Training accuracy of K-Nearest Neighbors model:\", model_knn.score(x_train, y_train))\n",
        "print(\"Testing accuracy of K-Nearest Neighbors model:\", model_knn.score(x_test, y_test))"
      ]
    },
    {
      "cell_type": "markdown",
      "metadata": {
        "id": "GLgcCh0bbwL8"
      },
      "source": [
        "The difference between training and testing accuracy indicates how much the model has overfitted. The KNN model has a low overfitting value of 0.07 which indicates the model has not trained data too well to negatively impact the performance."
      ]
    },
    {
      "cell_type": "code",
      "execution_count": null,
      "metadata": {
        "id": "gI3XlUQnbwL8",
        "outputId": "3247f330-b9e6-43b0-8e64-ebd9b0d32515"
      },
      "outputs": [
        {
          "name": "stdout",
          "output_type": "stream",
          "text": [
            "[[583 237]\n",
            " [190 640]]\n"
          ]
        }
      ],
      "source": [
        "# Confusion Matrix\n",
        "\n",
        "from sklearn.metrics import confusion_matrix, classification_report\n",
        "\n",
        "confusion_matrix = confusion_matrix(y_test, y_pred)\n",
        "print(confusion_matrix)"
      ]
    },
    {
      "cell_type": "markdown",
      "metadata": {
        "id": "w7Ko8IXtbwL8"
      },
      "source": [
        "The confusion matrix visualises the actual and predicted values of the data thereby depicting the performance of a supervised algorithm. Here, it can be inferred that there are 1,223 correct predictions and 427 incorrect predictions."
      ]
    },
    {
      "cell_type": "code",
      "execution_count": null,
      "metadata": {
        "id": "9cM-Ql2ZbwL8",
        "outputId": "c33e717c-5a8f-4342-9bea-372d99448c61"
      },
      "outputs": [
        {
          "name": "stdout",
          "output_type": "stream",
          "text": [
            "              precision    recall  f1-score   support\n",
            "\n",
            "           0       0.75      0.71      0.73       820\n",
            "           1       0.73      0.77      0.75       830\n",
            "\n",
            "    accuracy                           0.74      1650\n",
            "   macro avg       0.74      0.74      0.74      1650\n",
            "weighted avg       0.74      0.74      0.74      1650\n",
            "\n"
          ]
        }
      ],
      "source": [
        "# Classification report will summarise our model by computing precision, recall, f-measure and support\n",
        "\n",
        "print(classification_report(y_test, y_pred))"
      ]
    },
    {
      "cell_type": "markdown",
      "metadata": {
        "id": "JwtQZK3ibwL8"
      },
      "source": [
        "In social media analytics, high precision means that an algorithm returned more relevant results than irrelevant, while high recall means that an algorithm returned most of the relevant results. In the KNN model, there is a 74% precision that there are more relevant values and a 74% recall that most of the relevant values are included in our model."
      ]
    },
    {
      "cell_type": "code",
      "execution_count": null,
      "metadata": {
        "id": "RALvR7NLbwL9",
        "outputId": "8fcfa08d-a4b1-48d0-d272-87209862e8e6"
      },
      "outputs": [
        {
          "name": "stdout",
          "output_type": "stream",
          "text": [
            "XGBClassifier(base_score=0.5, booster='gbtree', colsample_bylevel=1,\n",
            "              colsample_bynode=1, colsample_bytree=1, eta=0.3, gamma=0,\n",
            "              learning_rate=0.1, max_delta_step=0, max_depth=2,\n",
            "              min_child_weight=1, missing=None, n_estimators=100, n_jobs=1,\n",
            "              nthread=None, objective='binary:logistic', random_state=0,\n",
            "              reg_alpha=0, reg_lambda=1, scale_pos_weight=1, seed=None,\n",
            "              silent=None, subsample=1, verbosity=1)\n"
          ]
        }
      ],
      "source": [
        "# XGBoost Classifier\n",
        "\n",
        "from xgboost import XGBClassifier\n",
        "from xgboost import plot_importance\n",
        "\n",
        "model_xgb = XGBClassifier(max_depth = 2,\n",
        "                          objective = 'binary:logistic',\n",
        "                          eta = 0.3\n",
        "                         )\n",
        "model_xgb\n",
        "\n",
        "model_xgb.fit(x_train, y_train)\n",
        "print(model_xgb)\n",
        "\n",
        "y_pred = model_xgb.predict(x_test)"
      ]
    },
    {
      "cell_type": "code",
      "execution_count": null,
      "metadata": {
        "id": "3BBN9aXMbwL9",
        "outputId": "6d96d258-1148-4fc5-e250-69bac253a61c"
      },
      "outputs": [
        {
          "name": "stdout",
          "output_type": "stream",
          "text": [
            "Training accuracy of XGBoost model: 0.7958441558441558\n",
            "Testing accuracy of XGBoost model: 0.7824242424242425\n"
          ]
        },
        {
          "data": {
            "image/png": "[encoded data removed]",
            "text/plain": [
              "<Figure size 432x288 with 1 Axes>"
            ]
          },
          "metadata": {
            "needs_background": "light"
          },
          "output_type": "display_data"
        }
      ],
      "source": [
        "# Calculating training and testing of our model\n",
        "\n",
        "print(\"Training accuracy of XGBoost model:\", model_xgb.score(x_train, y_train))\n",
        "print(\"Testing accuracy of XGBoost model:\", model_xgb.score(x_test, y_test))\n",
        "\n",
        "\n",
        "plot_importance(model_xgb, max_num_features=9)\n",
        "pyplot.show()"
      ]
    },
    {
      "cell_type": "code",
      "execution_count": null,
      "metadata": {
        "id": "HF7N2Xt2bwL9",
        "outputId": "27b6c84a-3ff8-47ab-c713-abbef20d7a0d"
      },
      "outputs": [
        {
          "data": {
            "image/png": "[encoded data removed]",
            "text/plain": [
              "<Figure size 432x288 with 1 Axes>"
            ]
          },
          "metadata": {
            "needs_background": "light"
          },
          "output_type": "display_data"
        }
      ],
      "source": [
        "# Select the top 5 features and re-run the model\n",
        "\n",
        "from sklearn.metrics import confusion_matrix, classification_report\n",
        "\n",
        "cols = ['A/B_follower_count','A/B_network_feature_3','A/B_listed_count',\n",
        "        'A/B_network_feature_2','A/B_retweets_received' ]\n",
        "x = x_train[cols]\n",
        "y = y_train\n",
        "\n",
        "\n",
        "model_xgb = XGBClassifier() #New xgb classifier for the most important features\n",
        "model_xgb.fit(x_train, y_train) #Train the model on training data\n",
        "\n",
        "#Predicting the test results\n",
        "\n",
        "y_pred = model_xgb.predict(x_test)\n",
        "\n",
        "plot_importance(model_xgb, max_num_features=5)\n",
        "pyplot.show()"
      ]
    },
    {
      "cell_type": "code",
      "execution_count": null,
      "metadata": {
        "id": "Z4cSH3xlbwL9",
        "outputId": "9fff2091-6235-4502-b956-53c3760121dd"
      },
      "outputs": [
        {
          "name": "stdout",
          "output_type": "stream",
          "text": [
            "Training accuracy of XGBoost model: 0.8166233766233766\n",
            "Testing accuracy of XGBoost model: 0.7866666666666666\n"
          ]
        }
      ],
      "source": [
        "# Calculating the accuracy of the model\n",
        "\n",
        "print(\"Training accuracy of XGBoost model:\", model_xgb.score(x_train, y_train))\n",
        "print(\"Testing accuracy of XGBoost model:\", model_xgb.score(x_test, y_test))"
      ]
    },
    {
      "cell_type": "markdown",
      "metadata": {
        "id": "kKt8ky44bwL9"
      },
      "source": [
        "The difference between training and testing accuracy indicates how much the model has overfitted. The XGBoost model has a low overfitting value of 0.03 which indicates the model has not trained data too well to negatively impact the performance."
      ]
    },
    {
      "cell_type": "code",
      "execution_count": null,
      "metadata": {
        "id": "a8d2-TJnbwL9",
        "outputId": "0f2509d6-abab-4591-ff30-2f64934a4468"
      },
      "outputs": [
        {
          "name": "stdout",
          "output_type": "stream",
          "text": [
            "[[636 184]\n",
            " [168 662]]\n"
          ]
        }
      ],
      "source": [
        "# Confusion Matrix\n",
        "\n",
        "from sklearn.metrics import confusion_matrix, classification_report\n",
        "\n",
        "confusion_matrix = confusion_matrix(y_test, y_pred)\n",
        "print(confusion_matrix)"
      ]
    },
    {
      "cell_type": "markdown",
      "metadata": {
        "id": "7nbg6fQhbwL9"
      },
      "source": [
        "The confusion matrix visualises the actual and predicted values of the data thereby depicting the performance of a supervised algorithm. Here, it can be inferred that there are 1,298 correct predictions and 352 incorrect predictions."
      ]
    },
    {
      "cell_type": "code",
      "execution_count": null,
      "metadata": {
        "id": "h9seGXTabwL9",
        "outputId": "fd2f5657-8c46-4ae2-ba43-27e017332faa"
      },
      "outputs": [
        {
          "name": "stdout",
          "output_type": "stream",
          "text": [
            "              precision    recall  f1-score   support\n",
            "\n",
            "           0       0.79      0.78      0.78       820\n",
            "           1       0.78      0.80      0.79       830\n",
            "\n",
            "    accuracy                           0.79      1650\n",
            "   macro avg       0.79      0.79      0.79      1650\n",
            "weighted avg       0.79      0.79      0.79      1650\n",
            "\n"
          ]
        }
      ],
      "source": [
        "# Classification report will summarise our model by computing precision, recall, f-measure and support\n",
        "\n",
        "print(classification_report(y_test, y_pred))"
      ]
    },
    {
      "cell_type": "markdown",
      "metadata": {
        "id": "EHvaFsCQbwL9"
      },
      "source": [
        "In social media analytics, high precision means that an algorithm returned more relevant results than irrelevant, while high recall means that an algorithm returned most of the relevant results. In the XGBoost model, there is a 79% precision that there are more relevant values and a 79% recall that most of the relevant values are included in our model."
      ]
    },
    {
      "cell_type": "markdown",
      "metadata": {
        "id": "Of6gL0DmbwL9"
      },
      "source": [
        "I tried 4 models on the dataset: Logistic Regression, Random Forest, K-Nearest Neighbors and XGBoost. On comparing these models, XGBoost has the highest training and testing accuracy of 81% and 79% respectively. Further, on analyzing the confusion matrix, XGBoost model has the highest number of correctly predicted values (1,298). Lastly, according to the classification report, XGBoost model has the highest precision, recall and f-measure (79%) indicating that the model selected more relevant values than irrelevants values as well as the most relevant values in the dataset have been included in our model. Therefore, the key predictors of social influence according to XGBoost model are: A/B_listed_count, A/B_follower_count, A/B_network_feature_3, A/B_retweets_received and A/B_network_feature_2.This data can be used by companies in choosing most influencial people on media to partner with."
      ]
    }
  ],
  "metadata": {
    "kernelspec": {
      "display_name": "Python 3",
      "language": "python",
      "name": "python3"
    },
    "language_info": {
      "codemirror_mode": {
        "name": "ipython",
        "version": 3
      },
      "file_extension": ".py",
      "mimetype": "text/x-python",
      "name": "python",
      "nbconvert_exporter": "python",
      "pygments_lexer": "ipython3",
      "version": "3.7.4"
    },
    "colab": {
      "provenance": []
    }
  },
  "nbformat": 4,
  "nbformat_minor": 0
}